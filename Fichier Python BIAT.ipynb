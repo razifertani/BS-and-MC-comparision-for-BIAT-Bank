{
 "cells": [
  {
   "cell_type": "code",
   "execution_count": 7,
   "metadata": {},
   "outputs": [],
   "source": [
    "import pandas as pd\n",
    "import numpy as np\n",
    "import math as m\n",
    "from scipy import stats\n",
    "from statsmodels.stats.diagnostic import acorr_ljungbox\n",
    "import matplotlib.pyplot as plt\n",
    "from matplotlib import style\n",
    "import  seaborn as sns\n",
    "\n",
    "plt.style.use('ggplot')"
   ]
  },
  {
   "cell_type": "code",
   "execution_count": 8,
   "metadata": {
    "scrolled": true
   },
   "outputs": [
    {
     "data": {
      "text/html": [
       "<div>\n",
       "<style scoped>\n",
       "    .dataframe tbody tr th:only-of-type {\n",
       "        vertical-align: middle;\n",
       "    }\n",
       "\n",
       "    .dataframe tbody tr th {\n",
       "        vertical-align: top;\n",
       "    }\n",
       "\n",
       "    .dataframe thead th {\n",
       "        text-align: right;\n",
       "    }\n",
       "</style>\n",
       "<table border=\"1\" class=\"dataframe\">\n",
       "  <thead>\n",
       "    <tr style=\"text-align: right;\">\n",
       "      <th></th>\n",
       "      <th>SEANCE</th>\n",
       "      <th>GROUPE</th>\n",
       "      <th>CODE</th>\n",
       "      <th>VALEUR</th>\n",
       "      <th>OUVERTURE</th>\n",
       "      <th>CLOTURE</th>\n",
       "      <th>PLUS_BAS</th>\n",
       "      <th>PLUS_HAUT</th>\n",
       "      <th>QUANTITE_NEGOCIEE</th>\n",
       "      <th>NB_TRANSACTION</th>\n",
       "      <th>CAPITAUX</th>\n",
       "      <th>IND_RES</th>\n",
       "    </tr>\n",
       "  </thead>\n",
       "  <tbody>\n",
       "    <tr>\n",
       "      <th>0</th>\n",
       "      <td>--------</td>\n",
       "      <td>----------</td>\n",
       "      <td>------------------------</td>\n",
       "      <td>------------------</td>\n",
       "      <td>----------</td>\n",
       "      <td>----------</td>\n",
       "      <td>----------</td>\n",
       "      <td>----------</td>\n",
       "      <td>-----------------</td>\n",
       "      <td>----------</td>\n",
       "      <td>----------</td>\n",
       "      <td>-</td>\n",
       "    </tr>\n",
       "    <tr>\n",
       "      <th>1</th>\n",
       "      <td>2019-01-02 00:00:00</td>\n",
       "      <td>11</td>\n",
       "      <td>725001</td>\n",
       "      <td>ADWYA</td>\n",
       "      <td>4.8</td>\n",
       "      <td>4.8</td>\n",
       "      <td>4.8</td>\n",
       "      <td>4.8</td>\n",
       "      <td>4296</td>\n",
       "      <td>5</td>\n",
       "      <td>20620.8</td>\n",
       "      <td>NaN</td>\n",
       "    </tr>\n",
       "    <tr>\n",
       "      <th>2</th>\n",
       "      <td>2019-01-02 00:00:00</td>\n",
       "      <td>11</td>\n",
       "      <td>340005</td>\n",
       "      <td>AMEN BANK</td>\n",
       "      <td>27.8</td>\n",
       "      <td>27.75</td>\n",
       "      <td>27.5</td>\n",
       "      <td>27.8</td>\n",
       "      <td>261</td>\n",
       "      <td>9</td>\n",
       "      <td>7240.06</td>\n",
       "      <td>NaN</td>\n",
       "    </tr>\n",
       "    <tr>\n",
       "      <th>3</th>\n",
       "      <td>2019-01-02 00:00:00</td>\n",
       "      <td>11</td>\n",
       "      <td>730001</td>\n",
       "      <td>ARTES</td>\n",
       "      <td>6.27</td>\n",
       "      <td>6.28</td>\n",
       "      <td>6.27</td>\n",
       "      <td>6.29</td>\n",
       "      <td>2532</td>\n",
       "      <td>4</td>\n",
       "      <td>15924.1</td>\n",
       "      <td>NaN</td>\n",
       "    </tr>\n",
       "    <tr>\n",
       "      <th>4</th>\n",
       "      <td>2019-01-02 00:00:00</td>\n",
       "      <td>11</td>\n",
       "      <td>714001</td>\n",
       "      <td>ASSAD</td>\n",
       "      <td>7.79</td>\n",
       "      <td>8.02</td>\n",
       "      <td>7.78</td>\n",
       "      <td>8.02</td>\n",
       "      <td>14878</td>\n",
       "      <td>62</td>\n",
       "      <td>118592</td>\n",
       "      <td>NaN</td>\n",
       "    </tr>\n",
       "  </tbody>\n",
       "</table>\n",
       "</div>"
      ],
      "text/plain": [
       "                SEANCE      GROUPE                      CODE  \\\n",
       "0             --------  ----------  ------------------------   \n",
       "1  2019-01-02 00:00:00          11                    725001   \n",
       "2  2019-01-02 00:00:00          11                    340005   \n",
       "3  2019-01-02 00:00:00          11                    730001   \n",
       "4  2019-01-02 00:00:00          11                    714001   \n",
       "\n",
       "               VALEUR   OUVERTURE     CLOTURE    PLUS_BAS   PLUS_HAUT  \\\n",
       "0  ------------------  ----------  ----------  ----------  ----------   \n",
       "1               ADWYA         4.8         4.8         4.8         4.8   \n",
       "2           AMEN BANK        27.8       27.75        27.5        27.8   \n",
       "3               ARTES        6.27        6.28        6.27        6.29   \n",
       "4               ASSAD        7.79        8.02        7.78        8.02   \n",
       "\n",
       "   QUANTITE_NEGOCIEE NB_TRANSACTION    CAPITAUX IND_RES  \n",
       "0  -----------------     ----------  ----------       -  \n",
       "1               4296              5     20620.8     NaN  \n",
       "2                261              9     7240.06     NaN  \n",
       "3               2532              4     15924.1     NaN  \n",
       "4              14878             62      118592     NaN  "
      ]
     },
     "execution_count": 8,
     "metadata": {},
     "output_type": "execute_result"
    }
   ],
   "source": [
    "#Chargement du DataSet\n",
    "res=pd.read_excel(\"histo_cotation1_2017_2018_2019.xlsx\")\n",
    "res.head()"
   ]
  },
  {
   "cell_type": "code",
   "execution_count": 9,
   "metadata": {},
   "outputs": [],
   "source": [
    "BIAT=res[res['VALEUR']==\"BIAT\"]"
   ]
  },
  {
   "cell_type": "code",
   "execution_count": 10,
   "metadata": {},
   "outputs": [
    {
     "data": {
      "text/html": [
       "<div>\n",
       "<style scoped>\n",
       "    .dataframe tbody tr th:only-of-type {\n",
       "        vertical-align: middle;\n",
       "    }\n",
       "\n",
       "    .dataframe tbody tr th {\n",
       "        vertical-align: top;\n",
       "    }\n",
       "\n",
       "    .dataframe thead th {\n",
       "        text-align: right;\n",
       "    }\n",
       "</style>\n",
       "<table border=\"1\" class=\"dataframe\">\n",
       "  <thead>\n",
       "    <tr style=\"text-align: right;\">\n",
       "      <th></th>\n",
       "      <th>SEANCE</th>\n",
       "      <th>GROUPE</th>\n",
       "      <th>CODE</th>\n",
       "      <th>VALEUR</th>\n",
       "      <th>OUVERTURE</th>\n",
       "      <th>CLOTURE</th>\n",
       "      <th>PLUS_BAS</th>\n",
       "      <th>PLUS_HAUT</th>\n",
       "      <th>QUANTITE_NEGOCIEE</th>\n",
       "      <th>NB_TRANSACTION</th>\n",
       "      <th>CAPITAUX</th>\n",
       "      <th>IND_RES</th>\n",
       "    </tr>\n",
       "  </thead>\n",
       "  <tbody>\n",
       "    <tr>\n",
       "      <th>11</th>\n",
       "      <td>2019-01-02 00:00:00</td>\n",
       "      <td>11</td>\n",
       "      <td>180045</td>\n",
       "      <td>BIAT</td>\n",
       "      <td>119.49</td>\n",
       "      <td>118</td>\n",
       "      <td>117</td>\n",
       "      <td>119.49</td>\n",
       "      <td>709</td>\n",
       "      <td>24</td>\n",
       "      <td>83568.9</td>\n",
       "      <td>NaN</td>\n",
       "    </tr>\n",
       "    <tr>\n",
       "      <th>318</th>\n",
       "      <td>2019-01-03 00:00:00</td>\n",
       "      <td>11</td>\n",
       "      <td>180045</td>\n",
       "      <td>BIAT</td>\n",
       "      <td>120</td>\n",
       "      <td>117.85</td>\n",
       "      <td>117</td>\n",
       "      <td>120</td>\n",
       "      <td>1230</td>\n",
       "      <td>46</td>\n",
       "      <td>145194</td>\n",
       "      <td>NaN</td>\n",
       "    </tr>\n",
       "    <tr>\n",
       "      <th>625</th>\n",
       "      <td>2019-01-04 00:00:00</td>\n",
       "      <td>11</td>\n",
       "      <td>180045</td>\n",
       "      <td>BIAT</td>\n",
       "      <td>117.99</td>\n",
       "      <td>117</td>\n",
       "      <td>116.11</td>\n",
       "      <td>117.99</td>\n",
       "      <td>942</td>\n",
       "      <td>38</td>\n",
       "      <td>110250</td>\n",
       "      <td>NaN</td>\n",
       "    </tr>\n",
       "    <tr>\n",
       "      <th>932</th>\n",
       "      <td>2019-01-07 00:00:00</td>\n",
       "      <td>11</td>\n",
       "      <td>180045</td>\n",
       "      <td>BIAT</td>\n",
       "      <td>117</td>\n",
       "      <td>114.01</td>\n",
       "      <td>114.01</td>\n",
       "      <td>117</td>\n",
       "      <td>1612</td>\n",
       "      <td>48</td>\n",
       "      <td>187612</td>\n",
       "      <td>NaN</td>\n",
       "    </tr>\n",
       "    <tr>\n",
       "      <th>1239</th>\n",
       "      <td>2019-01-08 00:00:00</td>\n",
       "      <td>11</td>\n",
       "      <td>180045</td>\n",
       "      <td>BIAT</td>\n",
       "      <td>117.3</td>\n",
       "      <td>115</td>\n",
       "      <td>114.01</td>\n",
       "      <td>117.3</td>\n",
       "      <td>1435</td>\n",
       "      <td>37</td>\n",
       "      <td>164601</td>\n",
       "      <td>NaN</td>\n",
       "    </tr>\n",
       "  </tbody>\n",
       "</table>\n",
       "</div>"
      ],
      "text/plain": [
       "                   SEANCE GROUPE    CODE VALEUR OUVERTURE CLOTURE PLUS_BAS  \\\n",
       "11    2019-01-02 00:00:00     11  180045   BIAT    119.49     118      117   \n",
       "318   2019-01-03 00:00:00     11  180045   BIAT       120  117.85      117   \n",
       "625   2019-01-04 00:00:00     11  180045   BIAT    117.99     117   116.11   \n",
       "932   2019-01-07 00:00:00     11  180045   BIAT       117  114.01   114.01   \n",
       "1239  2019-01-08 00:00:00     11  180045   BIAT     117.3     115   114.01   \n",
       "\n",
       "     PLUS_HAUT QUANTITE_NEGOCIEE NB_TRANSACTION CAPITAUX IND_RES  \n",
       "11      119.49               709             24  83568.9     NaN  \n",
       "318        120              1230             46   145194     NaN  \n",
       "625     117.99               942             38   110250     NaN  \n",
       "932        117              1612             48   187612     NaN  \n",
       "1239     117.3              1435             37   164601     NaN  "
      ]
     },
     "execution_count": 10,
     "metadata": {},
     "output_type": "execute_result"
    }
   ],
   "source": [
    "BIAT.head()"
   ]
  },
  {
   "cell_type": "code",
   "execution_count": 11,
   "metadata": {},
   "outputs": [
    {
     "data": {
      "text/html": [
       "<div>\n",
       "<style scoped>\n",
       "    .dataframe tbody tr th:only-of-type {\n",
       "        vertical-align: middle;\n",
       "    }\n",
       "\n",
       "    .dataframe tbody tr th {\n",
       "        vertical-align: top;\n",
       "    }\n",
       "\n",
       "    .dataframe thead th {\n",
       "        text-align: right;\n",
       "    }\n",
       "</style>\n",
       "<table border=\"1\" class=\"dataframe\">\n",
       "  <thead>\n",
       "    <tr style=\"text-align: right;\">\n",
       "      <th></th>\n",
       "      <th>SEANCE</th>\n",
       "      <th>CLOTURE</th>\n",
       "    </tr>\n",
       "  </thead>\n",
       "  <tbody>\n",
       "    <tr>\n",
       "      <th>11</th>\n",
       "      <td>2019-01-02 00:00:00</td>\n",
       "      <td>118</td>\n",
       "    </tr>\n",
       "    <tr>\n",
       "      <th>318</th>\n",
       "      <td>2019-01-03 00:00:00</td>\n",
       "      <td>117.85</td>\n",
       "    </tr>\n",
       "    <tr>\n",
       "      <th>625</th>\n",
       "      <td>2019-01-04 00:00:00</td>\n",
       "      <td>117</td>\n",
       "    </tr>\n",
       "    <tr>\n",
       "      <th>932</th>\n",
       "      <td>2019-01-07 00:00:00</td>\n",
       "      <td>114.01</td>\n",
       "    </tr>\n",
       "    <tr>\n",
       "      <th>1239</th>\n",
       "      <td>2019-01-08 00:00:00</td>\n",
       "      <td>115</td>\n",
       "    </tr>\n",
       "    <tr>\n",
       "      <th>...</th>\n",
       "      <td>...</td>\n",
       "      <td>...</td>\n",
       "    </tr>\n",
       "    <tr>\n",
       "      <th>76029</th>\n",
       "      <td>2019-12-25 00:00:00</td>\n",
       "      <td>114.95</td>\n",
       "    </tr>\n",
       "    <tr>\n",
       "      <th>76343</th>\n",
       "      <td>2019-12-26 00:00:00</td>\n",
       "      <td>113.2</td>\n",
       "    </tr>\n",
       "    <tr>\n",
       "      <th>76657</th>\n",
       "      <td>2019-12-27 00:00:00</td>\n",
       "      <td>113.2</td>\n",
       "    </tr>\n",
       "    <tr>\n",
       "      <th>76971</th>\n",
       "      <td>2019-12-30 00:00:00</td>\n",
       "      <td>113.31</td>\n",
       "    </tr>\n",
       "    <tr>\n",
       "      <th>77285</th>\n",
       "      <td>2019-12-31 00:00:00</td>\n",
       "      <td>114</td>\n",
       "    </tr>\n",
       "  </tbody>\n",
       "</table>\n",
       "<p>249 rows × 2 columns</p>\n",
       "</div>"
      ],
      "text/plain": [
       "                    SEANCE CLOTURE\n",
       "11     2019-01-02 00:00:00     118\n",
       "318    2019-01-03 00:00:00  117.85\n",
       "625    2019-01-04 00:00:00     117\n",
       "932    2019-01-07 00:00:00  114.01\n",
       "1239   2019-01-08 00:00:00     115\n",
       "...                    ...     ...\n",
       "76029  2019-12-25 00:00:00  114.95\n",
       "76343  2019-12-26 00:00:00   113.2\n",
       "76657  2019-12-27 00:00:00   113.2\n",
       "76971  2019-12-30 00:00:00  113.31\n",
       "77285  2019-12-31 00:00:00     114\n",
       "\n",
       "[249 rows x 2 columns]"
      ]
     },
     "execution_count": 11,
     "metadata": {},
     "output_type": "execute_result"
    }
   ],
   "source": [
    "B=BIAT[[\"SEANCE\",\"CLOTURE\"]]\n",
    "B"
   ]
  },
  {
   "cell_type": "code",
   "execution_count": 12,
   "metadata": {
    "scrolled": true
   },
   "outputs": [],
   "source": [
    "#B['dividendes']=0.0\n",
    "B=B.assign(dividendes=0.0)"
   ]
  },
  {
   "cell_type": "code",
   "execution_count": 13,
   "metadata": {},
   "outputs": [],
   "source": [
    "#B['rendement']=0.0\n",
    "B=B.assign(rendement=0.0)"
   ]
  },
  {
   "cell_type": "code",
   "execution_count": 14,
   "metadata": {},
   "outputs": [
    {
     "data": {
      "text/html": [
       "<div>\n",
       "<style scoped>\n",
       "    .dataframe tbody tr th:only-of-type {\n",
       "        vertical-align: middle;\n",
       "    }\n",
       "\n",
       "    .dataframe tbody tr th {\n",
       "        vertical-align: top;\n",
       "    }\n",
       "\n",
       "    .dataframe thead th {\n",
       "        text-align: right;\n",
       "    }\n",
       "</style>\n",
       "<table border=\"1\" class=\"dataframe\">\n",
       "  <thead>\n",
       "    <tr style=\"text-align: right;\">\n",
       "      <th></th>\n",
       "      <th>SEANCE</th>\n",
       "      <th>CLOTURE</th>\n",
       "      <th>dividendes</th>\n",
       "      <th>rendement</th>\n",
       "    </tr>\n",
       "  </thead>\n",
       "  <tbody>\n",
       "    <tr>\n",
       "      <th>11</th>\n",
       "      <td>2019-01-02 00:00:00</td>\n",
       "      <td>118</td>\n",
       "      <td>0.0</td>\n",
       "      <td>0.0</td>\n",
       "    </tr>\n",
       "    <tr>\n",
       "      <th>318</th>\n",
       "      <td>2019-01-03 00:00:00</td>\n",
       "      <td>117.85</td>\n",
       "      <td>0.0</td>\n",
       "      <td>0.0</td>\n",
       "    </tr>\n",
       "    <tr>\n",
       "      <th>625</th>\n",
       "      <td>2019-01-04 00:00:00</td>\n",
       "      <td>117</td>\n",
       "      <td>0.0</td>\n",
       "      <td>0.0</td>\n",
       "    </tr>\n",
       "    <tr>\n",
       "      <th>932</th>\n",
       "      <td>2019-01-07 00:00:00</td>\n",
       "      <td>114.01</td>\n",
       "      <td>0.0</td>\n",
       "      <td>0.0</td>\n",
       "    </tr>\n",
       "    <tr>\n",
       "      <th>1239</th>\n",
       "      <td>2019-01-08 00:00:00</td>\n",
       "      <td>115</td>\n",
       "      <td>0.0</td>\n",
       "      <td>0.0</td>\n",
       "    </tr>\n",
       "  </tbody>\n",
       "</table>\n",
       "</div>"
      ],
      "text/plain": [
       "                   SEANCE CLOTURE  dividendes  rendement\n",
       "11    2019-01-02 00:00:00     118         0.0        0.0\n",
       "318   2019-01-03 00:00:00  117.85         0.0        0.0\n",
       "625   2019-01-04 00:00:00     117         0.0        0.0\n",
       "932   2019-01-07 00:00:00  114.01         0.0        0.0\n",
       "1239  2019-01-08 00:00:00     115         0.0        0.0"
      ]
     },
     "execution_count": 14,
     "metadata": {},
     "output_type": "execute_result"
    }
   ],
   "source": [
    "B.head()"
   ]
  },
  {
   "cell_type": "code",
   "execution_count": null,
   "metadata": {},
   "outputs": [],
   "source": []
  },
  {
   "cell_type": "code",
   "execution_count": 15,
   "metadata": {},
   "outputs": [],
   "source": [
    "B.loc[B.SEANCE == '5/14/2018','dividendes']=4.250\n",
    "B.loc[B.SEANCE == '5/10/2019','dividendes']=5000"
   ]
  },
  {
   "cell_type": "code",
   "execution_count": 16,
   "metadata": {},
   "outputs": [
    {
     "data": {
      "text/html": [
       "<div>\n",
       "<style scoped>\n",
       "    .dataframe tbody tr th:only-of-type {\n",
       "        vertical-align: middle;\n",
       "    }\n",
       "\n",
       "    .dataframe tbody tr th {\n",
       "        vertical-align: top;\n",
       "    }\n",
       "\n",
       "    .dataframe thead th {\n",
       "        text-align: right;\n",
       "    }\n",
       "</style>\n",
       "<table border=\"1\" class=\"dataframe\">\n",
       "  <thead>\n",
       "    <tr style=\"text-align: right;\">\n",
       "      <th></th>\n",
       "      <th>SEANCE</th>\n",
       "      <th>CLOTURE</th>\n",
       "      <th>dividendes</th>\n",
       "      <th>rendement</th>\n",
       "    </tr>\n",
       "  </thead>\n",
       "  <tbody>\n",
       "    <tr>\n",
       "      <th>11</th>\n",
       "      <td>2019-01-02 00:00:00</td>\n",
       "      <td>118</td>\n",
       "      <td>0.0</td>\n",
       "      <td>0.0</td>\n",
       "    </tr>\n",
       "    <tr>\n",
       "      <th>318</th>\n",
       "      <td>2019-01-03 00:00:00</td>\n",
       "      <td>117.85</td>\n",
       "      <td>0.0</td>\n",
       "      <td>0.0</td>\n",
       "    </tr>\n",
       "    <tr>\n",
       "      <th>625</th>\n",
       "      <td>2019-01-04 00:00:00</td>\n",
       "      <td>117</td>\n",
       "      <td>0.0</td>\n",
       "      <td>0.0</td>\n",
       "    </tr>\n",
       "    <tr>\n",
       "      <th>932</th>\n",
       "      <td>2019-01-07 00:00:00</td>\n",
       "      <td>114.01</td>\n",
       "      <td>0.0</td>\n",
       "      <td>0.0</td>\n",
       "    </tr>\n",
       "    <tr>\n",
       "      <th>1239</th>\n",
       "      <td>2019-01-08 00:00:00</td>\n",
       "      <td>115</td>\n",
       "      <td>0.0</td>\n",
       "      <td>0.0</td>\n",
       "    </tr>\n",
       "  </tbody>\n",
       "</table>\n",
       "</div>"
      ],
      "text/plain": [
       "                   SEANCE CLOTURE  dividendes  rendement\n",
       "11    2019-01-02 00:00:00     118         0.0        0.0\n",
       "318   2019-01-03 00:00:00  117.85         0.0        0.0\n",
       "625   2019-01-04 00:00:00     117         0.0        0.0\n",
       "932   2019-01-07 00:00:00  114.01         0.0        0.0\n",
       "1239  2019-01-08 00:00:00     115         0.0        0.0"
      ]
     },
     "execution_count": 16,
     "metadata": {},
     "output_type": "execute_result"
    }
   ],
   "source": [
    "B.head()"
   ]
  },
  {
   "cell_type": "code",
   "execution_count": 17,
   "metadata": {},
   "outputs": [
    {
     "data": {
      "text/plain": [
       "0"
      ]
     },
     "execution_count": 17,
     "metadata": {},
     "output_type": "execute_result"
    }
   ],
   "source": [
    "B[\"CLOTURE\"].isnull().sum()"
   ]
  },
  {
   "cell_type": "code",
   "execution_count": 21,
   "metadata": {},
   "outputs": [
    {
     "data": {
      "text/plain": [
       "SEANCE         object\n",
       "CLOTURE        object\n",
       "dividendes    float64\n",
       "rendement     float64\n",
       "dtype: object"
      ]
     },
     "execution_count": 21,
     "metadata": {},
     "output_type": "execute_result"
    }
   ],
   "source": [
    "B.dtypes"
   ]
  },
  {
   "cell_type": "code",
   "execution_count": 22,
   "metadata": {},
   "outputs": [],
   "source": [
    "B['CLOTURE'] = B['CLOTURE'].astype(np.float64)"
   ]
  },
  {
   "cell_type": "code",
   "execution_count": 23,
   "metadata": {},
   "outputs": [
    {
     "data": {
      "text/plain": [
       "SEANCE         object\n",
       "CLOTURE       float64\n",
       "dividendes    float64\n",
       "rendement     float64\n",
       "dtype: object"
      ]
     },
     "execution_count": 23,
     "metadata": {},
     "output_type": "execute_result"
    }
   ],
   "source": [
    "B.dtypes"
   ]
  },
  {
   "cell_type": "code",
   "execution_count": 24,
   "metadata": {},
   "outputs": [],
   "source": [
    "#B['dividendes']=p.to_numeric(B['dividendes'],errors='coerce')\n",
    "#B['CLOTURE']=p.to_numeric(B['CLOTURE'],errors='coerce')\n",
    "#x= np.log(((B['CLOTURE']+B['dividendes'])/B[\"CLOTURE\"].shift(1)))\n"
   ]
  },
  {
   "cell_type": "code",
   "execution_count": 26,
   "metadata": {},
   "outputs": [],
   "source": [
    "x=B['CLOTURE']+B['dividendes']\n",
    "B['rendement']=np.log((x/B[\"CLOTURE\"].shift(1)))"
   ]
  },
  {
   "cell_type": "code",
   "execution_count": 27,
   "metadata": {},
   "outputs": [],
   "source": [
    "#Test de normalité\n",
    "B1=B\n",
    "B1.rendement=B.rendement.replace([np.inf, -np.inf],0)"
   ]
  },
  {
   "cell_type": "code",
   "execution_count": 28,
   "metadata": {},
   "outputs": [],
   "source": [
    "B2=B1\n",
    "B2.rendement=B1.rendement.replace(np.nan,0)"
   ]
  },
  {
   "cell_type": "code",
   "execution_count": 29,
   "metadata": {},
   "outputs": [
    {
     "data": {
      "text/plain": [
       "(0.9490256905555725, 1.2001829929886298e-07)"
      ]
     },
     "execution_count": 29,
     "metadata": {},
     "output_type": "execute_result"
    }
   ],
   "source": [
    "#le test de normalité Shapiro\n",
    "stats.shapiro(B2.rendement)"
   ]
  },
  {
   "cell_type": "code",
   "execution_count": 32,
   "metadata": {},
   "outputs": [
    {
     "data": {
      "text/plain": [
       "(37.9232524082157, 5.821975457287465e-09)"
      ]
     },
     "execution_count": 32,
     "metadata": {},
     "output_type": "execute_result"
    }
   ],
   "source": [
    "#Test de Jarque Bera\n",
    "stats.jarque_bera(B2.rendement)\n"
   ]
  },
  {
   "cell_type": "code",
   "execution_count": 34,
   "metadata": {},
   "outputs": [
    {
     "data": {
      "text/plain": [
       "-0.00013849869908100717"
      ]
     },
     "execution_count": 34,
     "metadata": {},
     "output_type": "execute_result"
    }
   ],
   "source": [
    "#V.\tCalcul de l’option\n",
    "rc=np.mean(B2.rendement)\n",
    "rc"
   ]
  },
  {
   "cell_type": "code",
   "execution_count": 36,
   "metadata": {},
   "outputs": [
    {
     "data": {
      "text/plain": [
       "0.026971689016732994"
      ]
     },
     "execution_count": 36,
     "metadata": {},
     "output_type": "execute_result"
    }
   ],
   "source": [
    "s=np.sum((B2.rendement-rc)**2)*(255/(len(B2)-1))\n",
    "s"
   ]
  },
  {
   "cell_type": "code",
   "execution_count": 38,
   "metadata": {},
   "outputs": [
    {
     "data": {
      "text/plain": [
       "-0.021831323757290327"
      ]
     },
     "execution_count": 38,
     "metadata": {},
     "output_type": "execute_result"
    }
   ],
   "source": [
    "u=0.5*s+(255*rc)\n",
    "u"
   ]
  },
  {
   "cell_type": "code",
   "execution_count": 41,
   "metadata": {},
   "outputs": [
    {
     "data": {
      "text/plain": [
       "-0.0001678202140749676"
      ]
     },
     "execution_count": 41,
     "metadata": {},
     "output_type": "execute_result"
    }
   ],
   "source": [
    "K=130\n",
    "S=122\n",
    "d1=(np.log(S/K) + (0.05 + s/2.0))/(np.sqrt(s))\n",
    "d1"
   ]
  },
  {
   "cell_type": "code",
   "execution_count": 42,
   "metadata": {},
   "outputs": [
    {
     "data": {
      "text/plain": [
       "-0.16439841729249088"
      ]
     },
     "execution_count": 42,
     "metadata": {},
     "output_type": "execute_result"
    }
   ],
   "source": [
    "d2=d1-np.sqrt(s)\n",
    "d2"
   ]
  },
  {
   "cell_type": "code",
   "execution_count": 46,
   "metadata": {},
   "outputs": [
    {
     "data": {
      "text/plain": [
       "7.235823414242333"
      ]
     },
     "execution_count": 46,
     "metadata": {},
     "output_type": "execute_result"
    }
   ],
   "source": [
    "C1=122*stats.norm.cdf(d1)-K*np.exp(-0.05)*stats.norm.cdf(d2)\n",
    "C1"
   ]
  },
  {
   "cell_type": "code",
   "execution_count": 47,
   "metadata": {},
   "outputs": [
    {
     "data": {
      "text/plain": [
       "11       3.299908e+10\n",
       "318      3.219610e+10\n",
       "625      2.800125e+10\n",
       "932      1.713631e+10\n",
       "1239     2.016177e+10\n",
       "             ...     \n",
       "76029    1.999688e+10\n",
       "76343    1.500184e+10\n",
       "76657    1.500184e+10\n",
       "76971    1.527532e+10\n",
       "77285    1.710819e+10\n",
       "Length: 249, dtype: float64"
      ]
     },
     "execution_count": 47,
     "metadata": {},
     "output_type": "execute_result"
    }
   ],
   "source": [
    "st=122*np.exp((0.05-0.5*s)+np.sqrt(s)*x)\n",
    "st"
   ]
  },
  {
   "cell_type": "code",
   "execution_count": 48,
   "metadata": {},
   "outputs": [
    {
     "ename": "SyntaxError",
     "evalue": "invalid syntax (<ipython-input-48-15e2e7c20f2d>, line 3)",
     "output_type": "error",
     "traceback": [
      "\u001b[1;36m  File \u001b[1;32m\"<ipython-input-48-15e2e7c20f2d>\"\u001b[1;36m, line \u001b[1;32m3\u001b[0m\n\u001b[1;33m    a append(max (i-k,0)*np.exp(-0.05))\u001b[0m\n\u001b[1;37m           ^\u001b[0m\n\u001b[1;31mSyntaxError\u001b[0m\u001b[1;31m:\u001b[0m invalid syntax\n"
     ]
    }
   ],
   "source": [
    "a=[]\n",
    "for i in st:\n",
    "    a append(max (i-k,0)*np.exp(-0.05))\n",
    "\n"
   ]
  },
  {
   "cell_type": "code",
   "execution_count": null,
   "metadata": {},
   "outputs": [],
   "source": []
  }
 ],
 "metadata": {
  "kernelspec": {
   "display_name": "Python 3",
   "language": "python",
   "name": "python3"
  },
  "language_info": {
   "codemirror_mode": {
    "name": "ipython",
    "version": 3
   },
   "file_extension": ".py",
   "mimetype": "text/x-python",
   "name": "python",
   "nbconvert_exporter": "python",
   "pygments_lexer": "ipython3",
   "version": "3.7.3"
  }
 },
 "nbformat": 4,
 "nbformat_minor": 4
}
